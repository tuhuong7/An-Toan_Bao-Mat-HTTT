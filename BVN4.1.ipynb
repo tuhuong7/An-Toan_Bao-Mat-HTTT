{
 "cells": [
  {
   "cell_type": "code",
   "execution_count": null,
   "id": "c3ee9649",
   "metadata": {},
   "outputs": [
    {
     "name": "stdout",
     "output_type": "stream",
     "text": [
      "TmVocgmvVowkBcPcwvo\n"
     ]
    }
   ],
   "source": [
    "def ma_hoa_ceasar (text: str, shift: int) -> str:\n",
    "    ket_qua: list[str] = []\n",
    "    for ky_tu in text:\n",
    "        if 'A' <= ky_tu <= 'Z':\n",
    "            zero_based_index: int = ord(ky_tu) - ord('A')\n",
    "            shifted_index: int = (zero_based_index + shift) % 26\n",
    "            ket_qua.append(chr(ord('A') + shifted_index))\n",
    "        elif 'a' <= ky_tu <= 'z':\n",
    "            zero_based_index: int = ord(ky_tu) - ord('a')\n",
    "            shifted_index: int = (zero_based_index + shift) % 26\n",
    "            ket_qua.append(chr(ord('a') + shifted_index))\n",
    "        else:\n",
    "            ket_qua.append(ky_tu)\n",
    "    return ''.join(ket_qua)\n",
    "\n",
    "if __name__ == \"__main__\":\n",
    "    shift_k: int = 8\n",
    "    plaintext: str = \"LeNguyenNgocTuHuong\"\n",
    "    ban_ma: str = ma_hoa_ceasar(plaintext, shift_k)\n",
    "    print(ban_ma)\n"
   ]
  }
 ],
 "metadata": {
  "kernelspec": {
   "display_name": "Python 3",
   "language": "python",
   "name": "python3"
  },
  "language_info": {
   "codemirror_mode": {
    "name": "ipython",
    "version": 3
   },
   "file_extension": ".py",
   "mimetype": "text/x-python",
   "name": "python",
   "nbconvert_exporter": "python",
   "pygments_lexer": "ipython3",
   "version": "3.13.1"
  }
 },
 "nbformat": 4,
 "nbformat_minor": 5
}
