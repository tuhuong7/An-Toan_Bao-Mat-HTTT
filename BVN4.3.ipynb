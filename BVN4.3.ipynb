{
 "cells": [
  {
   "cell_type": "code",
   "execution_count": null,
   "id": "85f2c681",
   "metadata": {},
   "outputs": [
    {
     "name": "stdout",
     "output_type": "stream",
     "text": [
      "n = 391\n",
      "ASCII của P: [76, 101, 78, 103, 117, 121, 101, 110, 78, 103, 111, 99, 84, 117, 72, 117, 111, 110, 103]\n",
      "Ciphertext: [247, 169, 261, 120, 308, 117, 169, 26, 261, 120, 195, 63, 237, 308, 174, 308, 195, 26, 120]\n"
     ]
    }
   ],
   "source": [
    "# BVN4.3 - Mã hóa RSA\n",
    "# Mã hóa RSA với p=17, q=23, e=5\n",
    "p = 17\n",
    "q = 23\n",
    "e = 5\n",
    "n = p * q\n",
    "\n",
    "P = \"LeNguyenNgocTuHuong\"\n",
    "\n",
    "# Chuyển từng ký tự sang mã ASCII\n",
    "m_values = [ord(ch) for ch in P]\n",
    "\n",
    "# Mã hóa RSA: c = m^e mod n\n",
    "c_values = [pow(m, e, n) for m in m_values]\n",
    "\n",
    "print(\"n =\", n)\n",
    "print(\"ASCII của P:\", m_values)\n",
    "print(\"Ciphertext:\", c_values)\n"
   ]
  }
 ],
 "metadata": {
  "kernelspec": {
   "display_name": "Python 3",
   "language": "python",
   "name": "python3"
  },
  "language_info": {
   "codemirror_mode": {
    "name": "ipython",
    "version": 3
   },
   "file_extension": ".py",
   "mimetype": "text/x-python",
   "name": "python",
   "nbconvert_exporter": "python",
   "pygments_lexer": "ipython3",
   "version": "3.12.6"
  }
 },
 "nbformat": 4,
 "nbformat_minor": 5
}
