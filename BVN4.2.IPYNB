{
 "cells": [
  {
   "cell_type": "code",
   "execution_count": 7,
   "id": "8384c0e4",
   "metadata": {},
   "outputs": [
    {
     "name": "stdout",
     "output_type": "stream",
     "text": [
      "k (STT)       : 8\n",
      "P             : LeNguyenNgocTuHuong\n",
      "Ciphertext    : TmVocgmvVowkBcPcwvo\n"
     ]
    }
   ],
   "source": [
    "from typing import Tuple\n",
    "\n",
    "ALPHABET = 26\n",
    "\n",
    "def encrypt_z26(text: str, k: int) -> str:\n",
    "    result_chars: list[str] = []\n",
    "    k = k % ALPHABET\n",
    "    for ch in text:\n",
    "        if 'A' <= ch <= 'Z':\n",
    "            x = ord(ch) - ord('A')\n",
    "            y = (x + k) % ALPHABET\n",
    "            result_chars.append(chr(ord('A') + y))\n",
    "        elif 'a' <= ch <= 'z':\n",
    "            x = ord(ch) - ord('a')\n",
    "            y = (x + k) % ALPHABET\n",
    "            result_chars.append(chr(ord('a') + y))\n",
    "        else:\n",
    "            result_chars.append(ch)\n",
    "    return ''.join(result_chars)\n",
    "\n",
    "if __name__ == \"__main__\":\n",
    "    STT = 8  \n",
    "    plaintext = \"LeNguyenNgocTuHuong\"  \n",
    "    cipher = encrypt_z26(plaintext, STT)\n",
    "    plain_back = decrypt_z26(cipher, STT)\n",
    "\n",
    "    print(\"k (STT)       :\", STT)\n",
    "    print(\"P             :\", plaintext)\n",
    "    print(\"Ciphertext    :\", cipher)\n"
   ]
  }
 ],
 "metadata": {
  "kernelspec": {
   "display_name": "Python 3",
   "language": "python",
   "name": "python3"
  },
  "language_info": {
   "codemirror_mode": {
    "name": "ipython",
    "version": 3
   },
   "file_extension": ".py",
   "mimetype": "text/x-python",
   "name": "python",
   "nbconvert_exporter": "python",
   "pygments_lexer": "ipython3",
   "version": "3.12.6"
  }
 },
 "nbformat": 4,
 "nbformat_minor": 5
}
